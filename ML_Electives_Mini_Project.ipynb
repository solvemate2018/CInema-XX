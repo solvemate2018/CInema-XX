{
  "nbformat": 4,
  "nbformat_minor": 0,
  "metadata": {
    "colab": {
      "provenance": [],
      "authorship_tag": "ABX9TyOx48MARTBcSzorh+ucJagk",
      "include_colab_link": true
    },
    "kernelspec": {
      "name": "python3",
      "display_name": "Python 3"
    },
    "language_info": {
      "name": "python"
    }
  },
  "cells": [
    {
      "cell_type": "markdown",
      "metadata": {
        "id": "view-in-github",
        "colab_type": "text"
      },
      "source": [
        "<a href=\"https://colab.research.google.com/github/solvemate2018/CInema-XX/blob/main/ML_Electives_Mini_Project.ipynb\" target=\"_parent\"><img src=\"https://colab.research.google.com/assets/colab-badge.svg\" alt=\"Open In Colab\"/></a>"
      ]
    },
    {
      "cell_type": "markdown",
      "source": [
        "I start by mounting my google drive to the project"
      ],
      "metadata": {
        "id": "4xopvADRTLkQ"
      }
    },
    {
      "cell_type": "code",
      "execution_count": 1,
      "metadata": {
        "colab": {
          "base_uri": "https://localhost:8080/"
        },
        "id": "T7js0De70AZn",
        "outputId": "2ae44d72-3a4b-4637-d7a6-f60f604e79c8"
      },
      "outputs": [
        {
          "output_type": "stream",
          "name": "stdout",
          "text": [
            "Drive already mounted at /content/drive; to attempt to forcibly remount, call drive.mount(\"/content/drive\", force_remount=True).\n"
          ]
        }
      ],
      "source": [
        "from google.colab import drive\n",
        "from tensorflow import keras\n",
        "import numpy as np\n",
        "\n",
        "drive.mount('/content/drive')"
      ]
    },
    {
      "cell_type": "markdown",
      "source": [
        "Then I read the csv file"
      ],
      "metadata": {
        "id": "7QndcCTYTROU"
      }
    },
    {
      "cell_type": "code",
      "source": [
        "import pandas as pd\n",
        "\n",
        "dataset = pd.read_csv('/content/drive/MyDrive/Colab Notebooks/DataSets/responses.csv')"
      ],
      "metadata": {
        "id": "c8w5JgNx0nDY"
      },
      "execution_count": 2,
      "outputs": []
    },
    {
      "cell_type": "markdown",
      "source": [
        "Now I can check the info of the dataset to see what datatypes we work with and what eventual changes we should make."
      ],
      "metadata": {
        "id": "B8BK9HULTegi"
      }
    },
    {
      "cell_type": "code",
      "source": [
        "dataset.info()"
      ],
      "metadata": {
        "colab": {
          "base_uri": "https://localhost:8080/"
        },
        "id": "-eO7PxfW1eCe",
        "outputId": "f1e99b9e-2208-44a0-a045-0fc349dd2620"
      },
      "execution_count": 3,
      "outputs": [
        {
          "output_type": "stream",
          "name": "stdout",
          "text": [
            "<class 'pandas.core.frame.DataFrame'>\n",
            "RangeIndex: 1010 entries, 0 to 1009\n",
            "Columns: 150 entries, Music to House - block of flats\n",
            "dtypes: float64(134), int64(5), object(11)\n",
            "memory usage: 1.2+ MB\n"
          ]
        }
      ]
    },
    {
      "cell_type": "markdown",
      "source": [
        "I am dropping about a hundred columns of data since I do not want to work with that huge amount of columns"
      ],
      "metadata": {
        "id": "2kata4-7T8mf"
      }
    },
    {
      "cell_type": "code",
      "source": [
        "dataset.drop(dataset.iloc[:, 0:100], inplace=True, axis=1)\n",
        "dataset.info()"
      ],
      "metadata": {
        "id": "o4TMbKg-4rfO",
        "colab": {
          "base_uri": "https://localhost:8080/"
        },
        "outputId": "c90694a5-b65f-46ec-a026-10fccf790313"
      },
      "execution_count": 4,
      "outputs": [
        {
          "output_type": "stream",
          "name": "stdout",
          "text": [
            "<class 'pandas.core.frame.DataFrame'>\n",
            "RangeIndex: 1010 entries, 0 to 1009\n",
            "Data columns (total 50 columns):\n",
            " #   Column                          Non-Null Count  Dtype  \n",
            "---  ------                          --------------  -----  \n",
            " 0   Cheating in school              1006 non-null   float64\n",
            " 1   Health                          1009 non-null   float64\n",
            " 2   Changing the past               1008 non-null   float64\n",
            " 3   God                             1008 non-null   float64\n",
            " 4   Dreams                          1010 non-null   int64  \n",
            " 5   Charity                         1007 non-null   float64\n",
            " 6   Number of friends               1010 non-null   int64  \n",
            " 7   Punctuality                     1008 non-null   object \n",
            " 8   Lying                           1008 non-null   object \n",
            " 9   Waiting                         1007 non-null   float64\n",
            " 10  New environment                 1008 non-null   float64\n",
            " 11  Mood swings                     1006 non-null   float64\n",
            " 12  Appearence and gestures         1007 non-null   float64\n",
            " 13  Socializing                     1005 non-null   float64\n",
            " 14  Achievements                    1008 non-null   float64\n",
            " 15  Responding to a serious letter  1004 non-null   float64\n",
            " 16  Children                        1006 non-null   float64\n",
            " 17  Assertiveness                   1008 non-null   float64\n",
            " 18  Getting angry                   1006 non-null   float64\n",
            " 19  Knowing the right people        1008 non-null   float64\n",
            " 20  Public speaking                 1008 non-null   float64\n",
            " 21  Unpopularity                    1007 non-null   float64\n",
            " 22  Life struggles                  1007 non-null   float64\n",
            " 23  Happiness in life               1006 non-null   float64\n",
            " 24  Energy levels                   1005 non-null   float64\n",
            " 25  Small - big dogs                1006 non-null   float64\n",
            " 26  Personality                     1006 non-null   float64\n",
            " 27  Finding lost valuables          1006 non-null   float64\n",
            " 28  Getting up                      1005 non-null   float64\n",
            " 29  Interests or hobbies            1007 non-null   float64\n",
            " 30  Parents' advice                 1008 non-null   float64\n",
            " 31  Questionnaires or polls         1006 non-null   float64\n",
            " 32  Internet usage                  1010 non-null   object \n",
            " 33  Finances                        1007 non-null   float64\n",
            " 34  Shopping centres                1008 non-null   float64\n",
            " 35  Branded clothing                1008 non-null   float64\n",
            " 36  Entertainment spending          1007 non-null   float64\n",
            " 37  Spending on looks               1007 non-null   float64\n",
            " 38  Spending on gadgets             1010 non-null   int64  \n",
            " 39  Spending on healthy eating      1008 non-null   float64\n",
            " 40  Age                             1003 non-null   float64\n",
            " 41  Height                          990 non-null    float64\n",
            " 42  Weight                          990 non-null    float64\n",
            " 43  Number of siblings              1004 non-null   float64\n",
            " 44  Gender                          1004 non-null   object \n",
            " 45  Left - right handed             1007 non-null   object \n",
            " 46  Education                       1009 non-null   object \n",
            " 47  Only child                      1008 non-null   object \n",
            " 48  Village - town                  1006 non-null   object \n",
            " 49  House - block of flats          1006 non-null   object \n",
            "dtypes: float64(38), int64(3), object(9)\n",
            "memory usage: 394.7+ KB\n"
          ]
        }
      ]
    },
    {
      "cell_type": "markdown",
      "source": [
        "Seing what I am left with I decided to merge some of the columns into one \"Happiness Index\" and to make it so that the model can predict it."
      ],
      "metadata": {
        "id": "gRLwtFUyUUFG"
      }
    },
    {
      "cell_type": "code",
      "source": [
        "dataset[\"Happiness Index\"] = (dataset[\"Happiness in life\"] + dataset[\"Life struggles\"] + dataset[\"Energy levels\"] + dataset[\"Dreams\"] + dataset[\"Health\"]) / 5\n",
        "\n",
        "dataset = dataset.drop(columns=\"Happiness in life\")\n",
        "dataset = dataset.drop(columns=\"Life struggles\")\n",
        "dataset = dataset.drop(columns=\"Energy levels\")\n",
        "dataset = dataset.drop(columns=\"Dreams\")\n",
        "dataset = dataset.drop(columns=\"Health\")"
      ],
      "metadata": {
        "id": "C7ibqG4e6vTF"
      },
      "execution_count": 5,
      "outputs": []
    },
    {
      "cell_type": "markdown",
      "source": [
        "Now I can analyze how much the other columns are affecting the Happiness Index and decide which one I want to keep."
      ],
      "metadata": {
        "id": "OJzz5TVpUv2u"
      }
    },
    {
      "cell_type": "code",
      "source": [
        "corr_matrix = dataset.corr(numeric_only=True)\n",
        "corr_matrix[\"Happiness Index\"].sort_values(ascending=False)"
      ],
      "metadata": {
        "colab": {
          "base_uri": "https://localhost:8080/"
        },
        "id": "NRpzLXO57s7t",
        "outputId": "50a1c67f-6168-4cc7-86c4-654da3abe7db"
      },
      "execution_count": 6,
      "outputs": [
        {
          "output_type": "execute_result",
          "data": {
            "text/plain": [
              "Happiness Index                   1.000000\n",
              "Parents' advice                   0.300817\n",
              "Number of friends                 0.272518\n",
              "Children                          0.259362\n",
              "Interests or hobbies              0.239095\n",
              "Spending on looks                 0.235009\n",
              "Appearence and gestures           0.220655\n",
              "Personality                       0.208418\n",
              "Spending on healthy eating        0.196633\n",
              "Shopping centres                  0.196179\n",
              "Knowing the right people          0.193044\n",
              "God                               0.189612\n",
              "Socializing                       0.146122\n",
              "Questionnaires or polls           0.121397\n",
              "Charity                           0.112670\n",
              "Getting angry                     0.108623\n",
              "Assertiveness                     0.106802\n",
              "Finding lost valuables            0.104353\n",
              "New environment                   0.089235\n",
              "Achievements                      0.075125\n",
              "Cheating in school                0.062730\n",
              "Unpopularity                      0.059191\n",
              "Branded clothing                  0.055154\n",
              "Number of siblings                0.048948\n",
              "Entertainment spending            0.039940\n",
              "Finances                          0.021649\n",
              "Public speaking                   0.011957\n",
              "Age                              -0.000790\n",
              "Mood swings                      -0.010379\n",
              "Getting up                       -0.011159\n",
              "Spending on gadgets              -0.018383\n",
              "Responding to a serious letter   -0.034928\n",
              "Waiting                          -0.062183\n",
              "Small - big dogs                 -0.098405\n",
              "Changing the past                -0.104250\n",
              "Height                           -0.212160\n",
              "Weight                           -0.239419\n",
              "Name: Happiness Index, dtype: float64"
            ]
          },
          "metadata": {},
          "execution_count": 6
        }
      ]
    },
    {
      "cell_type": "code",
      "source": [
        "dataset = dataset.drop(columns='Weight')\n",
        "dataset = dataset.drop(columns='Height')\n",
        "dataset = dataset.drop(columns='Changing the past')\n",
        "dataset = dataset.drop(columns='Small - big dogs')\n",
        "dataset = dataset.drop(columns='Waiting')"
      ],
      "metadata": {
        "id": "RMXnzyk9LAAG"
      },
      "execution_count": 7,
      "outputs": []
    },
    {
      "cell_type": "markdown",
      "source": [
        "Removing the one with the least weight on the Happiness index I am left with the most important data for my model."
      ],
      "metadata": {
        "id": "oCSUq262U8dY"
      }
    },
    {
      "cell_type": "code",
      "source": [
        "corr_matrix = dataset.corr(numeric_only=True)\n",
        "corr_matrix[\"Happiness Index\"].sort_values(ascending=False)"
      ],
      "metadata": {
        "colab": {
          "base_uri": "https://localhost:8080/"
        },
        "id": "F397EHKELbqd",
        "outputId": "061077c5-dce2-4864-87d8-fd41717ff204"
      },
      "execution_count": 8,
      "outputs": [
        {
          "output_type": "execute_result",
          "data": {
            "text/plain": [
              "Happiness Index                   1.000000\n",
              "Parents' advice                   0.300817\n",
              "Number of friends                 0.272518\n",
              "Children                          0.259362\n",
              "Interests or hobbies              0.239095\n",
              "Spending on looks                 0.235009\n",
              "Appearence and gestures           0.220655\n",
              "Personality                       0.208418\n",
              "Spending on healthy eating        0.196633\n",
              "Shopping centres                  0.196179\n",
              "Knowing the right people          0.193044\n",
              "God                               0.189612\n",
              "Socializing                       0.146122\n",
              "Questionnaires or polls           0.121397\n",
              "Charity                           0.112670\n",
              "Getting angry                     0.108623\n",
              "Assertiveness                     0.106802\n",
              "Finding lost valuables            0.104353\n",
              "New environment                   0.089235\n",
              "Achievements                      0.075125\n",
              "Cheating in school                0.062730\n",
              "Unpopularity                      0.059191\n",
              "Branded clothing                  0.055154\n",
              "Number of siblings                0.048948\n",
              "Entertainment spending            0.039940\n",
              "Finances                          0.021649\n",
              "Public speaking                   0.011957\n",
              "Age                              -0.000790\n",
              "Mood swings                      -0.010379\n",
              "Getting up                       -0.011159\n",
              "Spending on gadgets              -0.018383\n",
              "Responding to a serious letter   -0.034928\n",
              "Name: Happiness Index, dtype: float64"
            ]
          },
          "metadata": {},
          "execution_count": 8
        }
      ]
    },
    {
      "cell_type": "markdown",
      "source": [
        "I continue my data preparation by removing all null values."
      ],
      "metadata": {
        "id": "N1VNSENHVSIi"
      }
    },
    {
      "cell_type": "code",
      "source": [
        "from sklearn.model_selection import train_test_split\n",
        "\n",
        "dataset = dataset.dropna()"
      ],
      "metadata": {
        "id": "Q_OQs2po81jA"
      },
      "execution_count": 9,
      "outputs": []
    },
    {
      "cell_type": "markdown",
      "source": [
        "I split my dataset into dataset with predictors and dataset with the result values."
      ],
      "metadata": {
        "id": "OwOnj74NWxv9"
      }
    },
    {
      "cell_type": "code",
      "source": [
        "# Remove the labels from the Dataset.\n",
        "happiness_predictors = dataset.drop(columns=\"Happiness Index\")\n",
        "# Keep the labels in a separate set.\n",
        "happiness_labels = dataset[\"Happiness Index\"].copy()"
      ],
      "metadata": {
        "id": "gVtZgV-PMnPT"
      },
      "execution_count": 10,
      "outputs": []
    },
    {
      "cell_type": "markdown",
      "source": [
        "Now I make two pipelines for the numerical and the categorical datas to transform them into data that the model can use (Values between one and zero)"
      ],
      "metadata": {
        "id": "K_8XhKELXAwn"
      }
    },
    {
      "cell_type": "code",
      "source": [
        "from sklearn.compose import ColumnTransformer\n",
        "from sklearn.impute import SimpleImputer\n",
        "from sklearn.preprocessing import StandardScaler, MinMaxScaler\n",
        "from sklearn.pipeline import make_pipeline\n",
        "\n",
        "num_pipeline = make_pipeline(SimpleImputer(strategy=\"median\"), MinMaxScaler())"
      ],
      "metadata": {
        "id": "Fw6RZC_MNAzT"
      },
      "execution_count": 11,
      "outputs": []
    },
    {
      "cell_type": "code",
      "source": [
        "from sklearn.preprocessing import OneHotEncoder\n",
        "\n",
        "# Pipeline for the categorical attribute.\n",
        "cat_pipeline = make_pipeline(SimpleImputer(strategy=\"most_frequent\"), OneHotEncoder(sparse_output=False))"
      ],
      "metadata": {
        "id": "rvipMV6KNGHW"
      },
      "execution_count": 12,
      "outputs": []
    },
    {
      "cell_type": "markdown",
      "source": [
        "Now I can combine the two pipelines into one Preprocessing pipeline that can automatically scale all columns into usable data."
      ],
      "metadata": {
        "id": "p_jSWEJRXVy0"
      }
    },
    {
      "cell_type": "code",
      "source": [
        "# Pipeline that will transform both the numerical and categorial attributes and combine them.\n",
        "\n",
        "happiness_num = happiness_predictors.select_dtypes(include=[np.number])\n",
        "happiness_categories = happiness_predictors.select_dtypes(exclude='number')\n",
        "# We must pass the names of the attributes which should be transformed\n",
        "num_attribs = list(happiness_num)\n",
        "cat_attribs = list(happiness_categories)\n",
        "\n",
        "preprocessing_pipeline = ColumnTransformer([\n",
        "        (\"num\", num_pipeline, num_attribs),\n",
        "        (\"cat\", cat_pipeline, cat_attribs),\n",
        "    ])\n",
        "\n",
        "happiness_predictors_prepared = preprocessing_pipeline.fit_transform(happiness_predictors)"
      ],
      "metadata": {
        "id": "0uTmZDGrNHdk"
      },
      "execution_count": 13,
      "outputs": []
    },
    {
      "cell_type": "markdown",
      "source": [
        "Now I can split the prepared data into different training and testing sets."
      ],
      "metadata": {
        "id": "OC1Sz60RXphK"
      }
    },
    {
      "cell_type": "code",
      "source": [
        "X_train_full, X_test, y_train_full, y_test = train_test_split(happiness_predictors_prepared, happiness_labels, random_state=42)\n",
        "X_train, X_valid, y_train, y_valid = train_test_split(X_train_full, y_train_full, random_state=42)\n",
        "\n",
        "X_train.shape"
      ],
      "metadata": {
        "id": "u0azh7twQ7bJ",
        "colab": {
          "base_uri": "https://localhost:8080/"
        },
        "outputId": "e3f969b3-deb6-4197-d8b6-c0c190a60dfe"
      },
      "execution_count": 14,
      "outputs": [
        {
          "output_type": "execute_result",
          "data": {
            "text/plain": [
              "(508, 57)"
            ]
          },
          "metadata": {},
          "execution_count": 14
        }
      ]
    },
    {
      "cell_type": "markdown",
      "source": [
        "Now I can start preparing also my model. I amd using MLP (Multy Layer Perceptron) with early stopping (for lower overfitting) and learning rate scheduling (for avoiding Plateaus)."
      ],
      "metadata": {
        "id": "GYBHHu1QXzBQ"
      }
    },
    {
      "cell_type": "code",
      "source": [
        "#Early stopping callback\n",
        "early_stopping_cb = keras.callbacks.EarlyStopping(patience=20, restore_best_weights=True)\n",
        "\n",
        "# Performance scheduling\n",
        "lr_scheduler = keras.callbacks.ReduceLROnPlateau(factor=0.1, patience=4)"
      ],
      "metadata": {
        "id": "lqsA-oiebbWs"
      },
      "execution_count": 15,
      "outputs": []
    },
    {
      "cell_type": "markdown",
      "source": [
        "I continue by creating a Sequential model that with multiple layers. One for the input, a few hidden layers and one output layer."
      ],
      "metadata": {
        "id": "2ocdBnpRZ1kd"
      }
    },
    {
      "cell_type": "code",
      "source": [
        "optimizer = keras.optimizers.SGD(momentum=0.9)\n",
        "\n",
        "model = keras.models.Sequential([\n",
        "    # input layer\n",
        "    keras.layers.Input(shape=(57,)),\n",
        "    # hidden layers\n",
        "    keras.layers.Dense(70, activation=\"selu\"),\n",
        "    keras.layers.Dense(70, activation=\"selu\"),\n",
        "    keras.layers.Dense(70, activation=\"selu\"),\n",
        "    keras.layers.AlphaDropout(rate=0.1),\n",
        "    # output layer\n",
        "    keras.layers.Dense(1)\n",
        "])\n",
        "\n",
        "# Compile the model.\n",
        "model.compile(loss=\"mse\", optimizer=optimizer, metrics=[\"RootMeanSquaredError\"])"
      ],
      "metadata": {
        "id": "rDYjoUdZPWTe"
      },
      "execution_count": 16,
      "outputs": []
    },
    {
      "cell_type": "markdown",
      "source": [
        "Now I train the model with the data I prepared earlier and using the two callbacks"
      ],
      "metadata": {
        "id": "-JDrzEa1cHcx"
      }
    },
    {
      "cell_type": "code",
      "source": [
        "# Train the model.\n",
        "history = model.fit(X_train, y_train, epochs=100, validation_data=(X_valid, y_valid), callbacks=[lr_scheduler, early_stopping_cb])"
      ],
      "metadata": {
        "colab": {
          "base_uri": "https://localhost:8080/"
        },
        "id": "6VIRfznxRhSd",
        "outputId": "37f48217-9a3c-4bed-ef04-2127422dc551"
      },
      "execution_count": 17,
      "outputs": [
        {
          "output_type": "stream",
          "name": "stdout",
          "text": [
            "Epoch 1/100\n",
            "16/16 [==============================] - 2s 51ms/step - loss: 4.5694 - root_mean_squared_error: 2.1376 - val_loss: 0.5580 - val_root_mean_squared_error: 0.7470 - lr: 0.0100\n",
            "Epoch 2/100\n",
            "16/16 [==============================] - 0s 9ms/step - loss: 0.9696 - root_mean_squared_error: 0.9847 - val_loss: 2.1741 - val_root_mean_squared_error: 1.4745 - lr: 0.0100\n",
            "Epoch 3/100\n",
            "16/16 [==============================] - 0s 12ms/step - loss: 0.3790 - root_mean_squared_error: 0.6156 - val_loss: 0.6707 - val_root_mean_squared_error: 0.8190 - lr: 0.0100\n",
            "Epoch 4/100\n",
            "16/16 [==============================] - 0s 12ms/step - loss: 0.2445 - root_mean_squared_error: 0.4945 - val_loss: 1.0761 - val_root_mean_squared_error: 1.0374 - lr: 0.0100\n",
            "Epoch 5/100\n",
            "16/16 [==============================] - 0s 10ms/step - loss: 0.2782 - root_mean_squared_error: 0.5275 - val_loss: 1.2663 - val_root_mean_squared_error: 1.1253 - lr: 0.0100\n",
            "Epoch 6/100\n",
            "16/16 [==============================] - 0s 16ms/step - loss: 0.2875 - root_mean_squared_error: 0.5362 - val_loss: 0.6188 - val_root_mean_squared_error: 0.7867 - lr: 1.0000e-03\n",
            "Epoch 7/100\n",
            "16/16 [==============================] - 0s 13ms/step - loss: 0.2377 - root_mean_squared_error: 0.4876 - val_loss: 0.4619 - val_root_mean_squared_error: 0.6796 - lr: 1.0000e-03\n",
            "Epoch 8/100\n",
            "16/16 [==============================] - 0s 10ms/step - loss: 0.2100 - root_mean_squared_error: 0.4583 - val_loss: 0.5730 - val_root_mean_squared_error: 0.7570 - lr: 1.0000e-03\n",
            "Epoch 9/100\n",
            "16/16 [==============================] - 0s 9ms/step - loss: 0.1979 - root_mean_squared_error: 0.4448 - val_loss: 0.4662 - val_root_mean_squared_error: 0.6828 - lr: 1.0000e-03\n",
            "Epoch 10/100\n",
            "16/16 [==============================] - 0s 8ms/step - loss: 0.1991 - root_mean_squared_error: 0.4463 - val_loss: 0.4295 - val_root_mean_squared_error: 0.6554 - lr: 1.0000e-03\n",
            "Epoch 11/100\n",
            "16/16 [==============================] - 0s 11ms/step - loss: 0.1967 - root_mean_squared_error: 0.4435 - val_loss: 0.5715 - val_root_mean_squared_error: 0.7560 - lr: 1.0000e-03\n",
            "Epoch 12/100\n",
            "16/16 [==============================] - 0s 8ms/step - loss: 0.1972 - root_mean_squared_error: 0.4441 - val_loss: 0.4504 - val_root_mean_squared_error: 0.6711 - lr: 1.0000e-03\n",
            "Epoch 13/100\n",
            "16/16 [==============================] - 0s 17ms/step - loss: 0.1855 - root_mean_squared_error: 0.4307 - val_loss: 0.5565 - val_root_mean_squared_error: 0.7460 - lr: 1.0000e-03\n",
            "Epoch 14/100\n",
            "16/16 [==============================] - 0s 15ms/step - loss: 0.1877 - root_mean_squared_error: 0.4332 - val_loss: 0.5503 - val_root_mean_squared_error: 0.7418 - lr: 1.0000e-03\n",
            "Epoch 15/100\n",
            "16/16 [==============================] - 0s 17ms/step - loss: 0.1891 - root_mean_squared_error: 0.4348 - val_loss: 0.4770 - val_root_mean_squared_error: 0.6906 - lr: 1.0000e-04\n",
            "Epoch 16/100\n",
            "16/16 [==============================] - 0s 18ms/step - loss: 0.1895 - root_mean_squared_error: 0.4354 - val_loss: 0.4960 - val_root_mean_squared_error: 0.7043 - lr: 1.0000e-04\n",
            "Epoch 17/100\n",
            "16/16 [==============================] - 0s 18ms/step - loss: 0.1937 - root_mean_squared_error: 0.4402 - val_loss: 0.5155 - val_root_mean_squared_error: 0.7180 - lr: 1.0000e-04\n",
            "Epoch 18/100\n",
            "16/16 [==============================] - 0s 23ms/step - loss: 0.1831 - root_mean_squared_error: 0.4279 - val_loss: 0.5078 - val_root_mean_squared_error: 0.7126 - lr: 1.0000e-04\n",
            "Epoch 19/100\n",
            "16/16 [==============================] - 0s 12ms/step - loss: 0.1838 - root_mean_squared_error: 0.4287 - val_loss: 0.5037 - val_root_mean_squared_error: 0.7097 - lr: 1.0000e-05\n",
            "Epoch 20/100\n",
            "16/16 [==============================] - 0s 25ms/step - loss: 0.1876 - root_mean_squared_error: 0.4331 - val_loss: 0.5026 - val_root_mean_squared_error: 0.7090 - lr: 1.0000e-05\n",
            "Epoch 21/100\n",
            "16/16 [==============================] - 0s 18ms/step - loss: 0.1836 - root_mean_squared_error: 0.4285 - val_loss: 0.5057 - val_root_mean_squared_error: 0.7111 - lr: 1.0000e-05\n",
            "Epoch 22/100\n",
            "16/16 [==============================] - 0s 21ms/step - loss: 0.1813 - root_mean_squared_error: 0.4258 - val_loss: 0.5053 - val_root_mean_squared_error: 0.7109 - lr: 1.0000e-05\n",
            "Epoch 23/100\n",
            "16/16 [==============================] - 0s 21ms/step - loss: 0.1858 - root_mean_squared_error: 0.4311 - val_loss: 0.5056 - val_root_mean_squared_error: 0.7110 - lr: 1.0000e-06\n",
            "Epoch 24/100\n",
            "16/16 [==============================] - 0s 26ms/step - loss: 0.1841 - root_mean_squared_error: 0.4291 - val_loss: 0.5055 - val_root_mean_squared_error: 0.7110 - lr: 1.0000e-06\n",
            "Epoch 25/100\n",
            "16/16 [==============================] - 0s 23ms/step - loss: 0.1830 - root_mean_squared_error: 0.4277 - val_loss: 0.5057 - val_root_mean_squared_error: 0.7111 - lr: 1.0000e-06\n",
            "Epoch 26/100\n",
            "16/16 [==============================] - 0s 20ms/step - loss: 0.1860 - root_mean_squared_error: 0.4313 - val_loss: 0.5057 - val_root_mean_squared_error: 0.7111 - lr: 1.0000e-06\n",
            "Epoch 27/100\n",
            "16/16 [==============================] - 0s 20ms/step - loss: 0.1847 - root_mean_squared_error: 0.4298 - val_loss: 0.5058 - val_root_mean_squared_error: 0.7112 - lr: 1.0000e-07\n",
            "Epoch 28/100\n",
            "16/16 [==============================] - 0s 20ms/step - loss: 0.1871 - root_mean_squared_error: 0.4326 - val_loss: 0.5058 - val_root_mean_squared_error: 0.7112 - lr: 1.0000e-07\n",
            "Epoch 29/100\n",
            "16/16 [==============================] - 0s 16ms/step - loss: 0.1901 - root_mean_squared_error: 0.4360 - val_loss: 0.5058 - val_root_mean_squared_error: 0.7112 - lr: 1.0000e-07\n",
            "Epoch 30/100\n",
            "16/16 [==============================] - 0s 13ms/step - loss: 0.1888 - root_mean_squared_error: 0.4345 - val_loss: 0.5058 - val_root_mean_squared_error: 0.7112 - lr: 1.0000e-07\n"
          ]
        }
      ]
    },
    {
      "cell_type": "markdown",
      "source": [
        "Now let's evaluate the results."
      ],
      "metadata": {
        "id": "pXRCdAxz14qD"
      }
    },
    {
      "cell_type": "code",
      "source": [
        "loss, accuracy = model.evaluate(X_test, y_test)"
      ],
      "metadata": {
        "colab": {
          "base_uri": "https://localhost:8080/"
        },
        "id": "GsvXzacqRhMF",
        "outputId": "b366189c-77fc-4207-ff7a-2a845054327e"
      },
      "execution_count": 18,
      "outputs": [
        {
          "output_type": "stream",
          "name": "stdout",
          "text": [
            "8/8 [==============================] - 0s 5ms/step - loss: 0.4017 - root_mean_squared_error: 0.6338\n"
          ]
        }
      ]
    },
    {
      "cell_type": "markdown",
      "source": [
        "We get accuracy of about 60%, which is not enough for the model to be actively used."
      ],
      "metadata": {
        "id": "nSKkL3mZ1_K2"
      }
    },
    {
      "cell_type": "code",
      "source": [
        "accuracy"
      ],
      "metadata": {
        "colab": {
          "base_uri": "https://localhost:8080/"
        },
        "id": "YxCB0y7ExZin",
        "outputId": "fc76842e-f81d-475a-9fc8-e0619927b31d"
      },
      "execution_count": 19,
      "outputs": [
        {
          "output_type": "execute_result",
          "data": {
            "text/plain": [
              "0.6337803602218628"
            ]
          },
          "metadata": {},
          "execution_count": 19
        }
      ]
    },
    {
      "cell_type": "code",
      "source": [
        "y_test.head()"
      ],
      "metadata": {
        "colab": {
          "base_uri": "https://localhost:8080/"
        },
        "id": "alia8rPB1EhK",
        "outputId": "2dfb86dc-15f6-4704-83b6-999e6cd4dc06"
      },
      "execution_count": 28,
      "outputs": [
        {
          "output_type": "execute_result",
          "data": {
            "text/plain": [
              "75     3.2\n",
              "495    3.6\n",
              "236    4.2\n",
              "270    3.4\n",
              "41     3.2\n",
              "Name: Happiness Index, dtype: float64"
            ]
          },
          "metadata": {},
          "execution_count": 28
        }
      ]
    },
    {
      "cell_type": "code",
      "source": [
        "model.predict(X_test[:5])"
      ],
      "metadata": {
        "colab": {
          "base_uri": "https://localhost:8080/"
        },
        "id": "TmDk11Eb0gni",
        "outputId": "3d6c48f5-b781-4162-8022-da26b99b16bb"
      },
      "execution_count": 32,
      "outputs": [
        {
          "output_type": "stream",
          "name": "stdout",
          "text": [
            "1/1 [==============================] - 0s 89ms/step\n"
          ]
        },
        {
          "output_type": "execute_result",
          "data": {
            "text/plain": [
              "array([[3.8346434],\n",
              "       [3.9206762],\n",
              "       [4.1353016],\n",
              "       [3.9819272],\n",
              "       [3.7375906]], dtype=float32)"
            ]
          },
          "metadata": {},
          "execution_count": 32
        }
      ]
    },
    {
      "cell_type": "markdown",
      "source": [
        "ALthough the accuracy is about 60% we can see that the difference between the prediction and the actual value is less then 0.5 which makes it still usable with some disclaimers."
      ],
      "metadata": {
        "id": "17yQcHMq2OyY"
      }
    }
  ]
}